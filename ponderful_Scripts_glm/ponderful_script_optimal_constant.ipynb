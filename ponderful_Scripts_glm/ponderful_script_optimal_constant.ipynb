{
 "cells": [
  {
   "cell_type": "code",
   "execution_count": 2,
   "metadata": {},
   "outputs": [],
   "source": [
    "import numpy as np\n",
    "import pandas as pd\n",
    "from scipy.optimize import curve_fit"
   ]
  },
  {
   "cell_type": "code",
   "execution_count": 13,
   "metadata": {},
   "outputs": [],
   "source": [
    "df = pd.read_csv('/Users/lidiayung/PhD_project/project_PONDERFUL/ponderful_OUTPUT/Phy_Che_qt.csv', index_col=0)"
   ]
  },
  {
   "cell_type": "code",
   "execution_count": 57,
   "metadata": {},
   "outputs": [],
   "source": [
    "model_TP_df = df[['TP','bio1.t','bio4.t', 'bio5.t', 'bio6.t', 'bio7.t', 'bio12.t', 'bio15.t', 'bio17.t',\n",
    "'Area.t', 'Depth.t', 'Animals_cont.t', 'Hydeoperiod_length.t','Natural_5_qt', \n",
    "'Aquatic_500_qt', 'Cropland_500_qt', 'Forest_500_qt',\n",
    "'Pastures.and.open.nature_500_qt', 'Urban_500_qt']]"
   ]
  },
  {
   "cell_type": "code",
   "execution_count": 58,
   "metadata": {},
   "outputs": [],
   "source": [
    "model_TP_df.columns=['TP','bio1_t','bio4_t', 'bio5_t', 'bio6_t', 'bio7_t', 'bio12_t', 'bio15_t', 'bio17_t',\n",
    "'Area_t', 'Depth_t', 'Animals_cont_t', 'Hydeoperiod_length_t','Natural_5_qt', \n",
    "'Aquatic_500_qt', 'Cropland_500_qt', 'Forest_500_qt',\n",
    "'Pastures_open_nature_500_qt', 'Urban_500_qt']"
   ]
  },
  {
   "cell_type": "code",
   "execution_count": 59,
   "metadata": {},
   "outputs": [
    {
     "name": "stderr",
     "output_type": "stream",
     "text": [
      "/var/folders/qq/n8l4bgxs53j_s3twq5jzc7g00000gn/T/ipykernel_17996/1836501515.py:1: SettingWithCopyWarning: \n",
      "A value is trying to be set on a copy of a slice from a DataFrame\n",
      "\n",
      "See the caveats in the documentation: https://pandas.pydata.org/pandas-docs/stable/user_guide/indexing.html#returning-a-view-versus-a-copy\n",
      "  model_TP_df.dropna(inplace=True)\n"
     ]
    }
   ],
   "source": [
    "model_TP_df.dropna(inplace=True)"
   ]
  },
  {
   "cell_type": "code",
   "execution_count": 60,
   "metadata": {},
   "outputs": [
    {
     "name": "stdout",
     "output_type": "stream",
     "text": [
      "Optimal parameters:  [ 0.01       -2.15445615 -0.06464216 -0.11766513  0.02594294 -0.21972955\n",
      " -0.05197101  0.01995246  0.2270074   0.05326441 -0.37725279 -0.2638148\n",
      " -0.10415713 -0.34904285]\n"
     ]
    },
    {
     "name": "stderr",
     "output_type": "stream",
     "text": [
      "/Users/lidiayung/miniforge3/envs/cstar/lib/python3.12/site-packages/scipy/optimize/_minpack_py.py:1010: OptimizeWarning: Covariance of the parameters could not be estimated\n",
      "  warnings.warn('Covariance of the parameters could not be estimated',\n"
     ]
    }
   ],
   "source": [
    "# Define the model with C as the constant to estimate\n",
    "def model_func(x, C, beta0, beta1, beta2, beta3, beta4, beta5, beta6, beta7, beta8, beta9, beta10, beta11, beta12):\n",
    "    (Natural_5_qt, Aquatic_500_qt, Cropland_500_qt, Forest_500_qt,\n",
    "     Pastures_open_nature_500_qt, Urban_500_qt, Animals_cont_t, Area_t,\n",
    "     Depth_t, bio1_t, bio4_t, bio12_t) = x\n",
    "    \n",
    "    return beta0 + beta1 * Natural_5_qt + beta2 * Aquatic_500_qt + beta3 * Cropland_500_qt + beta4 * Forest_500_qt + beta5 * Pastures_open_nature_500_qt + beta6 * Urban_500_qt + beta7 * Animals_cont_t + beta8 * Area_t + beta9 * Depth_t + beta10 * bio1_t + beta11 * bio4_t + beta12 * bio12_t\n",
    "\n",
    "# Prepare the input variables as arrays\n",
    "predictors = [\n",
    "    model_TP_df['Natural_5_qt'], model_TP_df['Aquatic_500_qt'], model_TP_df['Cropland_500_qt'],\n",
    "    model_TP_df['Forest_500_qt'], model_TP_df['Pastures_open_nature_500_qt'],\n",
    "    model_TP_df['Urban_500_qt'], model_TP_df['Animals_cont_t'], model_TP_df['Area_t'],\n",
    "    model_TP_df['Depth_t'], model_TP_df['bio1_t'], model_TP_df['bio4_t'], model_TP_df['bio12_t']\n",
    "]\n",
    "\n",
    "# Apply curve fitting\n",
    "popt, pcov = curve_fit(\n",
    "    model_func, predictors, np.log(model_TP_df['TP'] + 0.01),  # log(TP + C)\n",
    "    p0=[0.01] + [0] * 13  # Starting guesses for C and beta parameters\n",
    ")\n",
    "\n",
    "# Optimal parameters (C and beta values)\n",
    "print(\"Optimal parameters: \", popt)\n"
   ]
  }
 ],
 "metadata": {
  "kernelspec": {
   "display_name": "cstar",
   "language": "python",
   "name": "python3"
  },
  "language_info": {
   "codemirror_mode": {
    "name": "ipython",
    "version": 3
   },
   "file_extension": ".py",
   "mimetype": "text/x-python",
   "name": "python",
   "nbconvert_exporter": "python",
   "pygments_lexer": "ipython3",
   "version": "3.12.4"
  }
 },
 "nbformat": 4,
 "nbformat_minor": 2
}
